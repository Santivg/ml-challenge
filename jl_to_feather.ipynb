{
 "cells": [
  {
   "cell_type": "markdown",
   "metadata": {},
   "source": [
    "## Script para conversión y organización de archivos en jsonlines a feather"
   ]
  },
  {
   "cell_type": "code",
   "execution_count": 1,
   "metadata": {
    "execution": {
     "iopub.execute_input": "2020-11-09T18:26:35.794416Z",
     "iopub.status.busy": "2020-11-09T18:26:35.794225Z",
     "iopub.status.idle": "2020-11-09T18:26:35.945056Z",
     "shell.execute_reply": "2020-11-09T18:26:35.944492Z",
     "shell.execute_reply.started": "2020-11-09T18:26:35.794370Z"
    }
   },
   "outputs": [],
   "source": [
    "#Importar librerias\n",
    "import pandas as pd\n",
    "from datetime import datetime"
   ]
  },
  {
   "cell_type": "markdown",
   "metadata": {},
   "source": [
    "* Primero con el dataset de train"
   ]
  },
  {
   "cell_type": "code",
   "execution_count": 2,
   "metadata": {
    "execution": {
     "iopub.execute_input": "2020-11-09T18:26:49.328187Z",
     "iopub.status.busy": "2020-11-09T18:26:49.328030Z",
     "iopub.status.idle": "2020-11-09T18:29:02.595005Z",
     "shell.execute_reply": "2020-11-09T18:29:02.573732Z",
     "shell.execute_reply.started": "2020-11-09T18:26:49.328172Z"
    }
   },
   "outputs": [],
   "source": [
    "# Leer el dataset y covertirlo en dataframe\n",
    "raw_data = pd.read_json(\"jl_files/train_dataset.jl.gz\",\n",
    "                        lines=True,\n",
    "                        orient='columns')"
   ]
  },
  {
   "cell_type": "code",
   "execution_count": 3,
   "metadata": {
    "execution": {
     "iopub.execute_input": "2020-11-09T18:29:24.945322Z",
     "iopub.status.busy": "2020-11-09T18:29:24.944306Z",
     "iopub.status.idle": "2020-11-09T18:29:25.415083Z",
     "shell.execute_reply": "2020-11-09T18:29:25.413692Z",
     "shell.execute_reply.started": "2020-11-09T18:29:24.944929Z"
    }
   },
   "outputs": [
    {
     "data": {
      "text/html": [
       "<div>\n",
       "<style scoped>\n",
       "    .dataframe tbody tr th:only-of-type {\n",
       "        vertical-align: middle;\n",
       "    }\n",
       "\n",
       "    .dataframe tbody tr th {\n",
       "        vertical-align: top;\n",
       "    }\n",
       "\n",
       "    .dataframe thead th {\n",
       "        text-align: right;\n",
       "    }\n",
       "</style>\n",
       "<table border=\"1\" class=\"dataframe\">\n",
       "  <thead>\n",
       "    <tr style=\"text-align: right;\">\n",
       "      <th></th>\n",
       "      <th>user_history</th>\n",
       "      <th>item_bought</th>\n",
       "    </tr>\n",
       "  </thead>\n",
       "  <tbody>\n",
       "    <tr>\n",
       "      <th>0</th>\n",
       "      <td>[{'event_info': 1786148, 'event_timestamp': '2...</td>\n",
       "      <td>1748830</td>\n",
       "    </tr>\n",
       "    <tr>\n",
       "      <th>1</th>\n",
       "      <td>[{'event_info': 643652, 'event_timestamp': '20...</td>\n",
       "      <td>228737</td>\n",
       "    </tr>\n",
       "    <tr>\n",
       "      <th>2</th>\n",
       "      <td>[{'event_info': 248595, 'event_timestamp': '20...</td>\n",
       "      <td>1909110</td>\n",
       "    </tr>\n",
       "    <tr>\n",
       "      <th>3</th>\n",
       "      <td>[{'event_info': 'RADIOBOSS', 'event_timestamp'...</td>\n",
       "      <td>1197370</td>\n",
       "    </tr>\n",
       "    <tr>\n",
       "      <th>4</th>\n",
       "      <td>[{'event_info': 'AMAZFIT BIP', 'event_timestam...</td>\n",
       "      <td>2049207</td>\n",
       "    </tr>\n",
       "  </tbody>\n",
       "</table>\n",
       "</div>"
      ],
      "text/plain": [
       "                                        user_history  item_bought\n",
       "0  [{'event_info': 1786148, 'event_timestamp': '2...      1748830\n",
       "1  [{'event_info': 643652, 'event_timestamp': '20...       228737\n",
       "2  [{'event_info': 248595, 'event_timestamp': '20...      1909110\n",
       "3  [{'event_info': 'RADIOBOSS', 'event_timestamp'...      1197370\n",
       "4  [{'event_info': 'AMAZFIT BIP', 'event_timestam...      2049207"
      ]
     },
     "execution_count": 3,
     "metadata": {},
     "output_type": "execute_result"
    }
   ],
   "source": [
    "raw_data.head()"
   ]
  },
  {
   "cell_type": "markdown",
   "metadata": {},
   "source": [
    "Separar el *user_history* en 4 columnas\n",
    "- **user_view**: una lista con el numero de los productos que visitó\n",
    "- **timestamps**: lista con los timestamps correspondientes a los productos visitados\n",
    "- **user_search**: lista con las búsquedas realizadas\n",
    "- **search_timestamps**: lista con los timestamps correspondientes a las búsquedas realizadas"
   ]
  },
  {
   "cell_type": "code",
   "execution_count": 4,
   "metadata": {
    "execution": {
     "iopub.execute_input": "2020-11-09T18:29:27.092853Z",
     "iopub.status.busy": "2020-11-09T18:29:27.092696Z",
     "iopub.status.idle": "2020-11-09T18:29:27.548286Z",
     "shell.execute_reply": "2020-11-09T18:29:27.547147Z",
     "shell.execute_reply.started": "2020-11-09T18:29:27.092838Z"
    }
   },
   "outputs": [],
   "source": [
    "raw_data['user_view']= pd.Series(dtype='object')\n",
    "raw_data['timestamps']= pd.Series(dtype='object')\n",
    "raw_data['user_search']= pd.Series(dtype='object')\n",
    "raw_data['search_timestamps']= pd.Series(dtype='object')"
   ]
  },
  {
   "cell_type": "code",
   "execution_count": 5,
   "metadata": {
    "execution": {
     "iopub.execute_input": "2020-11-09T18:29:27.550594Z",
     "iopub.status.busy": "2020-11-09T18:29:27.550465Z",
     "iopub.status.idle": "2020-11-09T18:31:13.216337Z",
     "shell.execute_reply": "2020-11-09T18:31:13.215765Z",
     "shell.execute_reply.started": "2020-11-09T18:29:27.550579Z"
    }
   },
   "outputs": [],
   "source": [
    "for i in raw_data.index:\n",
    "    lista_view=[]\n",
    "    lista_time=[]\n",
    "    lista_search=[]\n",
    "    lista_search_t=[]\n",
    "    for item in raw_data.user_history[i]:\n",
    "        if item['event_type'] =='view':\n",
    "            lista_view.append(item['event_info'])\n",
    "            time_string=item['event_timestamp'].replace(\"T\", \" \").split('.')[0]\n",
    "            timestamp=datetime.timestamp(datetime.strptime(time_string, '%Y-%m-%d %H:%M:%S'))\n",
    "            lista_time.append(timestamp)\n",
    "        if item['event_type'] =='search':\n",
    "            lista_search.append(item['event_info'])\n",
    "            time_string=item['event_timestamp'].replace(\"T\", \" \").split('.')[0]\n",
    "            timestamp=datetime.timestamp(datetime.strptime(time_string, '%Y-%m-%d %H:%M:%S'))\n",
    "            lista_search_t.append(timestamp)\n",
    "            \n",
    "    raw_data.at[i,'user_view']= lista_view\n",
    "    raw_data.at[i,'timestamps']= lista_time\n",
    "    \n",
    "    raw_data.at[i,'user_search']= lista_search\n",
    "    raw_data.at[i,'search_timestamps']= lista_search_t"
   ]
  },
  {
   "cell_type": "code",
   "execution_count": 6,
   "metadata": {
    "execution": {
     "iopub.execute_input": "2020-11-09T18:31:13.217312Z",
     "iopub.status.busy": "2020-11-09T18:31:13.217195Z",
     "iopub.status.idle": "2020-11-09T18:31:13.550450Z",
     "shell.execute_reply": "2020-11-09T18:31:13.549864Z",
     "shell.execute_reply.started": "2020-11-09T18:31:13.217298Z"
    }
   },
   "outputs": [],
   "source": [
    "raw_data=raw_data.drop('user_history',1)"
   ]
  },
  {
   "cell_type": "code",
   "execution_count": 7,
   "metadata": {
    "execution": {
     "iopub.execute_input": "2020-11-09T18:31:13.551308Z",
     "iopub.status.busy": "2020-11-09T18:31:13.551183Z",
     "iopub.status.idle": "2020-11-09T18:31:13.563146Z",
     "shell.execute_reply": "2020-11-09T18:31:13.561748Z",
     "shell.execute_reply.started": "2020-11-09T18:31:13.551293Z"
    }
   },
   "outputs": [
    {
     "data": {
      "text/html": [
       "<div>\n",
       "<style scoped>\n",
       "    .dataframe tbody tr th:only-of-type {\n",
       "        vertical-align: middle;\n",
       "    }\n",
       "\n",
       "    .dataframe tbody tr th {\n",
       "        vertical-align: top;\n",
       "    }\n",
       "\n",
       "    .dataframe thead th {\n",
       "        text-align: right;\n",
       "    }\n",
       "</style>\n",
       "<table border=\"1\" class=\"dataframe\">\n",
       "  <thead>\n",
       "    <tr style=\"text-align: right;\">\n",
       "      <th></th>\n",
       "      <th>item_bought</th>\n",
       "      <th>user_view</th>\n",
       "      <th>timestamps</th>\n",
       "      <th>user_search</th>\n",
       "      <th>search_timestamps</th>\n",
       "    </tr>\n",
       "  </thead>\n",
       "  <tbody>\n",
       "    <tr>\n",
       "      <th>0</th>\n",
       "      <td>1748830</td>\n",
       "      <td>[1786148, 1786148, 1615991, 1615991, 1615991, ...</td>\n",
       "      <td>[1571502342.0, 1571502357.0, 1571502446.0, 157...</td>\n",
       "      <td>[RELOGIO SMARTWATCH]</td>\n",
       "      <td>[1571502367.0]</td>\n",
       "    </tr>\n",
       "    <tr>\n",
       "      <th>1</th>\n",
       "      <td>228737</td>\n",
       "      <td>[643652, 1156086, 1943604, 206667, 1282813, 22...</td>\n",
       "      <td>[1570402973.0, 1570459567.0, 1570459673.0, 157...</td>\n",
       "      <td>[DESMAMADEIRA ELETRICA, DESMAMADEIRA ELETRICA,...</td>\n",
       "      <td>[1570459529.0, 1570459577.0, 1570459579.0, 157...</td>\n",
       "    </tr>\n",
       "    <tr>\n",
       "      <th>2</th>\n",
       "      <td>1909110</td>\n",
       "      <td>[248595, 248595]</td>\n",
       "      <td>[1569951963.0, 1569954110.0]</td>\n",
       "      <td>[]</td>\n",
       "      <td>[]</td>\n",
       "    </tr>\n",
       "    <tr>\n",
       "      <th>3</th>\n",
       "      <td>1197370</td>\n",
       "      <td>[505541, 505541, 505541, 505541, 505541, 12300...</td>\n",
       "      <td>[1570569846.0, 1570569956.0, 1570569975.0, 157...</td>\n",
       "      <td>[RADIOBOSS, RADIOBOSS, SOUND FORGE, SOUND FORG...</td>\n",
       "      <td>[1570569831.0, 1570591952.0, 1570735976.0, 157...</td>\n",
       "    </tr>\n",
       "    <tr>\n",
       "      <th>4</th>\n",
       "      <td>2049207</td>\n",
       "      <td>[130440, 130440, 2049207, 2049207, 2049207, 27...</td>\n",
       "      <td>[1569418739.0, 1569418755.0, 1569418839.0, 156...</td>\n",
       "      <td>[AMAZFIT BIP, AMAZFIT BIP, AMAZFIT BIPAMAZFIT ...</td>\n",
       "      <td>[1569418723.0, 1569418767.0, 1569418787.0, 156...</td>\n",
       "    </tr>\n",
       "  </tbody>\n",
       "</table>\n",
       "</div>"
      ],
      "text/plain": [
       "   item_bought                                          user_view  \\\n",
       "0      1748830  [1786148, 1786148, 1615991, 1615991, 1615991, ...   \n",
       "1       228737  [643652, 1156086, 1943604, 206667, 1282813, 22...   \n",
       "2      1909110                                   [248595, 248595]   \n",
       "3      1197370  [505541, 505541, 505541, 505541, 505541, 12300...   \n",
       "4      2049207  [130440, 130440, 2049207, 2049207, 2049207, 27...   \n",
       "\n",
       "                                          timestamps  \\\n",
       "0  [1571502342.0, 1571502357.0, 1571502446.0, 157...   \n",
       "1  [1570402973.0, 1570459567.0, 1570459673.0, 157...   \n",
       "2                       [1569951963.0, 1569954110.0]   \n",
       "3  [1570569846.0, 1570569956.0, 1570569975.0, 157...   \n",
       "4  [1569418739.0, 1569418755.0, 1569418839.0, 156...   \n",
       "\n",
       "                                         user_search  \\\n",
       "0                               [RELOGIO SMARTWATCH]   \n",
       "1  [DESMAMADEIRA ELETRICA, DESMAMADEIRA ELETRICA,...   \n",
       "2                                                 []   \n",
       "3  [RADIOBOSS, RADIOBOSS, SOUND FORGE, SOUND FORG...   \n",
       "4  [AMAZFIT BIP, AMAZFIT BIP, AMAZFIT BIPAMAZFIT ...   \n",
       "\n",
       "                                   search_timestamps  \n",
       "0                                     [1571502367.0]  \n",
       "1  [1570459529.0, 1570459577.0, 1570459579.0, 157...  \n",
       "2                                                 []  \n",
       "3  [1570569831.0, 1570591952.0, 1570735976.0, 157...  \n",
       "4  [1569418723.0, 1569418767.0, 1569418787.0, 156...  "
      ]
     },
     "execution_count": 7,
     "metadata": {},
     "output_type": "execute_result"
    }
   ],
   "source": [
    "raw_data.head()"
   ]
  },
  {
   "cell_type": "code",
   "execution_count": 9,
   "metadata": {
    "execution": {
     "iopub.execute_input": "2020-11-09T18:33:37.819443Z",
     "iopub.status.busy": "2020-11-09T18:33:37.819278Z",
     "iopub.status.idle": "2020-11-09T18:33:39.913935Z",
     "shell.execute_reply": "2020-11-09T18:33:39.913303Z",
     "shell.execute_reply.started": "2020-11-09T18:33:37.819427Z"
    }
   },
   "outputs": [],
   "source": [
    "## Guardar en un formato optimizado\n",
    "raw_data.to_feather('feather_files/usuarios.feather')"
   ]
  },
  {
   "cell_type": "code",
   "execution_count": 10,
   "metadata": {
    "execution": {
     "iopub.execute_input": "2020-11-09T18:33:41.325086Z",
     "iopub.status.busy": "2020-11-09T18:33:41.324921Z",
     "iopub.status.idle": "2020-11-09T18:33:43.863009Z",
     "shell.execute_reply": "2020-11-09T18:33:43.861036Z",
     "shell.execute_reply.started": "2020-11-09T18:33:41.325070Z"
    }
   },
   "outputs": [
    {
     "data": {
      "text/html": [
       "<div>\n",
       "<style scoped>\n",
       "    .dataframe tbody tr th:only-of-type {\n",
       "        vertical-align: middle;\n",
       "    }\n",
       "\n",
       "    .dataframe tbody tr th {\n",
       "        vertical-align: top;\n",
       "    }\n",
       "\n",
       "    .dataframe thead th {\n",
       "        text-align: right;\n",
       "    }\n",
       "</style>\n",
       "<table border=\"1\" class=\"dataframe\">\n",
       "  <thead>\n",
       "    <tr style=\"text-align: right;\">\n",
       "      <th></th>\n",
       "      <th>item_bought</th>\n",
       "      <th>user_view</th>\n",
       "      <th>timestamps</th>\n",
       "      <th>user_search</th>\n",
       "      <th>search_timestamps</th>\n",
       "    </tr>\n",
       "  </thead>\n",
       "  <tbody>\n",
       "    <tr>\n",
       "      <th>0</th>\n",
       "      <td>1748830</td>\n",
       "      <td>[1786148, 1786148, 1615991, 1615991, 1615991, ...</td>\n",
       "      <td>[1571502342.0, 1571502357.0, 1571502446.0, 157...</td>\n",
       "      <td>[RELOGIO SMARTWATCH]</td>\n",
       "      <td>[1571502367.0]</td>\n",
       "    </tr>\n",
       "    <tr>\n",
       "      <th>1</th>\n",
       "      <td>228737</td>\n",
       "      <td>[643652, 1156086, 1943604, 206667, 1282813, 22...</td>\n",
       "      <td>[1570402973.0, 1570459567.0, 1570459673.0, 157...</td>\n",
       "      <td>[DESMAMADEIRA ELETRICA, DESMAMADEIRA ELETRICA,...</td>\n",
       "      <td>[1570459529.0, 1570459577.0, 1570459579.0, 157...</td>\n",
       "    </tr>\n",
       "    <tr>\n",
       "      <th>2</th>\n",
       "      <td>1909110</td>\n",
       "      <td>[248595, 248595]</td>\n",
       "      <td>[1569951963.0, 1569954110.0]</td>\n",
       "      <td>[]</td>\n",
       "      <td>[]</td>\n",
       "    </tr>\n",
       "    <tr>\n",
       "      <th>3</th>\n",
       "      <td>1197370</td>\n",
       "      <td>[505541, 505541, 505541, 505541, 505541, 12300...</td>\n",
       "      <td>[1570569846.0, 1570569956.0, 1570569975.0, 157...</td>\n",
       "      <td>[RADIOBOSS, RADIOBOSS, SOUND FORGE, SOUND FORG...</td>\n",
       "      <td>[1570569831.0, 1570591952.0, 1570735976.0, 157...</td>\n",
       "    </tr>\n",
       "    <tr>\n",
       "      <th>4</th>\n",
       "      <td>2049207</td>\n",
       "      <td>[130440, 130440, 2049207, 2049207, 2049207, 27...</td>\n",
       "      <td>[1569418739.0, 1569418755.0, 1569418839.0, 156...</td>\n",
       "      <td>[AMAZFIT BIP, AMAZFIT BIP, AMAZFIT BIPAMAZFIT ...</td>\n",
       "      <td>[1569418723.0, 1569418767.0, 1569418787.0, 156...</td>\n",
       "    </tr>\n",
       "  </tbody>\n",
       "</table>\n",
       "</div>"
      ],
      "text/plain": [
       "   item_bought                                          user_view  \\\n",
       "0      1748830  [1786148, 1786148, 1615991, 1615991, 1615991, ...   \n",
       "1       228737  [643652, 1156086, 1943604, 206667, 1282813, 22...   \n",
       "2      1909110                                   [248595, 248595]   \n",
       "3      1197370  [505541, 505541, 505541, 505541, 505541, 12300...   \n",
       "4      2049207  [130440, 130440, 2049207, 2049207, 2049207, 27...   \n",
       "\n",
       "                                          timestamps  \\\n",
       "0  [1571502342.0, 1571502357.0, 1571502446.0, 157...   \n",
       "1  [1570402973.0, 1570459567.0, 1570459673.0, 157...   \n",
       "2                       [1569951963.0, 1569954110.0]   \n",
       "3  [1570569846.0, 1570569956.0, 1570569975.0, 157...   \n",
       "4  [1569418739.0, 1569418755.0, 1569418839.0, 156...   \n",
       "\n",
       "                                         user_search  \\\n",
       "0                               [RELOGIO SMARTWATCH]   \n",
       "1  [DESMAMADEIRA ELETRICA, DESMAMADEIRA ELETRICA,...   \n",
       "2                                                 []   \n",
       "3  [RADIOBOSS, RADIOBOSS, SOUND FORGE, SOUND FORG...   \n",
       "4  [AMAZFIT BIP, AMAZFIT BIP, AMAZFIT BIPAMAZFIT ...   \n",
       "\n",
       "                                   search_timestamps  \n",
       "0                                     [1571502367.0]  \n",
       "1  [1570459529.0, 1570459577.0, 1570459579.0, 157...  \n",
       "2                                                 []  \n",
       "3  [1570569831.0, 1570591952.0, 1570735976.0, 157...  \n",
       "4  [1569418723.0, 1569418767.0, 1569418787.0, 156...  "
      ]
     },
     "execution_count": 10,
     "metadata": {},
     "output_type": "execute_result"
    }
   ],
   "source": [
    "data=pd.read_feather('feather_files/usuarios.feather')\n",
    "data.head()"
   ]
  },
  {
   "cell_type": "markdown",
   "metadata": {},
   "source": [
    "Se obtiene como resultado un archivo de tamaño reducido (1.2 GB descomprimido gz a 128 MB) con la misma información organizada de una mejor forma, adicionalmente con este formato se reduce el tiempo de lectura y conversión a dataframe de pandas de 2 minutos a 3 seg en el computador utilizado."
   ]
  },
  {
   "cell_type": "markdown",
   "metadata": {
    "execution": {
     "iopub.execute_input": "2020-11-09T16:44:41.079848Z",
     "iopub.status.busy": "2020-11-09T16:44:41.079694Z",
     "iopub.status.idle": "2020-11-09T16:44:41.082438Z",
     "shell.execute_reply": "2020-11-09T16:44:41.081836Z",
     "shell.execute_reply.started": "2020-11-09T16:44:41.079831Z"
    }
   },
   "source": [
    "* Ahora convertimos la información de los productos a feather"
   ]
  },
  {
   "cell_type": "code",
   "execution_count": 11,
   "metadata": {
    "execution": {
     "iopub.execute_input": "2020-11-09T18:33:48.004742Z",
     "iopub.status.busy": "2020-11-09T18:33:48.004585Z",
     "iopub.status.idle": "2020-11-09T18:34:16.769851Z",
     "shell.execute_reply": "2020-11-09T18:34:16.768047Z",
     "shell.execute_reply.started": "2020-11-09T18:33:48.004726Z"
    }
   },
   "outputs": [],
   "source": [
    "item_data = pd.read_json(\"jl_files/item_data.jl.gz\",\n",
    "                        lines=True,\n",
    "                        orient='columns')"
   ]
  },
  {
   "cell_type": "code",
   "execution_count": 12,
   "metadata": {
    "execution": {
     "iopub.execute_input": "2020-11-09T18:34:16.773881Z",
     "iopub.status.busy": "2020-11-09T18:34:16.773754Z",
     "iopub.status.idle": "2020-11-09T18:34:16.813065Z",
     "shell.execute_reply": "2020-11-09T18:34:16.812503Z",
     "shell.execute_reply.started": "2020-11-09T18:34:16.773866Z"
    }
   },
   "outputs": [
    {
     "data": {
      "text/html": [
       "<div>\n",
       "<style scoped>\n",
       "    .dataframe tbody tr th:only-of-type {\n",
       "        vertical-align: middle;\n",
       "    }\n",
       "\n",
       "    .dataframe tbody tr th {\n",
       "        vertical-align: top;\n",
       "    }\n",
       "\n",
       "    .dataframe thead th {\n",
       "        text-align: right;\n",
       "    }\n",
       "</style>\n",
       "<table border=\"1\" class=\"dataframe\">\n",
       "  <thead>\n",
       "    <tr style=\"text-align: right;\">\n",
       "      <th></th>\n",
       "      <th>item_id</th>\n",
       "      <th>title</th>\n",
       "      <th>domain_id</th>\n",
       "      <th>product_id</th>\n",
       "      <th>price</th>\n",
       "      <th>category_id</th>\n",
       "      <th>condition</th>\n",
       "    </tr>\n",
       "  </thead>\n",
       "  <tbody>\n",
       "    <tr>\n",
       "      <th>0</th>\n",
       "      <td>111260</td>\n",
       "      <td>Casa Sola En Venta Con Gran Patio Solo Pago De...</td>\n",
       "      <td>MLM-INDIVIDUAL_HOUSES_FOR_SALE</td>\n",
       "      <td>NaN</td>\n",
       "      <td>1150000.00</td>\n",
       "      <td>MLM170527</td>\n",
       "      <td>new</td>\n",
       "    </tr>\n",
       "    <tr>\n",
       "      <th>1</th>\n",
       "      <td>871377</td>\n",
       "      <td>Resident Evil Origins Collection Nintendo Swit...</td>\n",
       "      <td>MLM-VIDEO_GAMES</td>\n",
       "      <td>15270800.0</td>\n",
       "      <td>1392.83</td>\n",
       "      <td>MLM151595</td>\n",
       "      <td>new</td>\n",
       "    </tr>\n",
       "    <tr>\n",
       "      <th>2</th>\n",
       "      <td>490232</td>\n",
       "      <td>Falda De Imitación Piel Negra</td>\n",
       "      <td>MLM-SKIRTS</td>\n",
       "      <td>NaN</td>\n",
       "      <td>350.00</td>\n",
       "      <td>MLM7697</td>\n",
       "      <td>new</td>\n",
       "    </tr>\n",
       "    <tr>\n",
       "      <th>3</th>\n",
       "      <td>1150706</td>\n",
       "      <td>Powercolor Red Devil Radeon Rx 580 8gb Gddr5</td>\n",
       "      <td>MLM-GRAPHICS_CARDS</td>\n",
       "      <td>NaN</td>\n",
       "      <td>3200.00</td>\n",
       "      <td>MLM9761</td>\n",
       "      <td>used</td>\n",
       "    </tr>\n",
       "    <tr>\n",
       "      <th>4</th>\n",
       "      <td>934912</td>\n",
       "      <td>Laptop Hp Nx6320 Core Duo Con Puerto Db9 Windo...</td>\n",
       "      <td>MLM-NOTEBOOKS</td>\n",
       "      <td>NaN</td>\n",
       "      <td>1599.00</td>\n",
       "      <td>MLM1652</td>\n",
       "      <td>used</td>\n",
       "    </tr>\n",
       "  </tbody>\n",
       "</table>\n",
       "</div>"
      ],
      "text/plain": [
       "   item_id                                              title  \\\n",
       "0   111260  Casa Sola En Venta Con Gran Patio Solo Pago De...   \n",
       "1   871377  Resident Evil Origins Collection Nintendo Swit...   \n",
       "2   490232                      Falda De Imitación Piel Negra   \n",
       "3  1150706       Powercolor Red Devil Radeon Rx 580 8gb Gddr5   \n",
       "4   934912  Laptop Hp Nx6320 Core Duo Con Puerto Db9 Windo...   \n",
       "\n",
       "                        domain_id  product_id       price category_id  \\\n",
       "0  MLM-INDIVIDUAL_HOUSES_FOR_SALE         NaN  1150000.00   MLM170527   \n",
       "1                 MLM-VIDEO_GAMES  15270800.0     1392.83   MLM151595   \n",
       "2                      MLM-SKIRTS         NaN      350.00     MLM7697   \n",
       "3              MLM-GRAPHICS_CARDS         NaN     3200.00     MLM9761   \n",
       "4                   MLM-NOTEBOOKS         NaN     1599.00     MLM1652   \n",
       "\n",
       "  condition  \n",
       "0       new  \n",
       "1       new  \n",
       "2       new  \n",
       "3      used  \n",
       "4      used  "
      ]
     },
     "execution_count": 12,
     "metadata": {},
     "output_type": "execute_result"
    }
   ],
   "source": [
    "item_data.head()"
   ]
  },
  {
   "cell_type": "code",
   "execution_count": 13,
   "metadata": {
    "execution": {
     "iopub.execute_input": "2020-11-09T18:34:16.817590Z",
     "iopub.status.busy": "2020-11-09T18:34:16.817379Z",
     "iopub.status.idle": "2020-11-09T18:34:16.960988Z",
     "shell.execute_reply": "2020-11-09T18:34:16.960349Z",
     "shell.execute_reply.started": "2020-11-09T18:34:16.817566Z"
    }
   },
   "outputs": [
    {
     "data": {
      "text/html": [
       "<div>\n",
       "<style scoped>\n",
       "    .dataframe tbody tr th:only-of-type {\n",
       "        vertical-align: middle;\n",
       "    }\n",
       "\n",
       "    .dataframe tbody tr th {\n",
       "        vertical-align: top;\n",
       "    }\n",
       "\n",
       "    .dataframe thead th {\n",
       "        text-align: right;\n",
       "    }\n",
       "</style>\n",
       "<table border=\"1\" class=\"dataframe\">\n",
       "  <thead>\n",
       "    <tr style=\"text-align: right;\">\n",
       "      <th></th>\n",
       "      <th>item_id</th>\n",
       "      <th>title</th>\n",
       "      <th>domain_id</th>\n",
       "      <th>product_id</th>\n",
       "      <th>price</th>\n",
       "      <th>category_id</th>\n",
       "      <th>condition</th>\n",
       "    </tr>\n",
       "  </thead>\n",
       "  <tbody>\n",
       "    <tr>\n",
       "      <th>0</th>\n",
       "      <td>111260</td>\n",
       "      <td>Casa Sola En Venta Con Gran Patio Solo Pago De...</td>\n",
       "      <td>MLM-INDIVIDUAL_HOUSES_FOR_SALE</td>\n",
       "      <td>NaN</td>\n",
       "      <td>1150000.00</td>\n",
       "      <td>MLM170527</td>\n",
       "      <td>new</td>\n",
       "    </tr>\n",
       "    <tr>\n",
       "      <th>1</th>\n",
       "      <td>871377</td>\n",
       "      <td>Resident Evil Origins Collection Nintendo Swit...</td>\n",
       "      <td>MLM-VIDEO_GAMES</td>\n",
       "      <td>15270800.0</td>\n",
       "      <td>1392.83</td>\n",
       "      <td>MLM151595</td>\n",
       "      <td>new</td>\n",
       "    </tr>\n",
       "    <tr>\n",
       "      <th>2</th>\n",
       "      <td>490232</td>\n",
       "      <td>Falda De Imitación Piel Negra</td>\n",
       "      <td>MLM-SKIRTS</td>\n",
       "      <td>NaN</td>\n",
       "      <td>350.00</td>\n",
       "      <td>MLM7697</td>\n",
       "      <td>new</td>\n",
       "    </tr>\n",
       "    <tr>\n",
       "      <th>3</th>\n",
       "      <td>1150706</td>\n",
       "      <td>Powercolor Red Devil Radeon Rx 580 8gb Gddr5</td>\n",
       "      <td>MLM-GRAPHICS_CARDS</td>\n",
       "      <td>NaN</td>\n",
       "      <td>3200.00</td>\n",
       "      <td>MLM9761</td>\n",
       "      <td>used</td>\n",
       "    </tr>\n",
       "    <tr>\n",
       "      <th>4</th>\n",
       "      <td>934912</td>\n",
       "      <td>Laptop Hp Nx6320 Core Duo Con Puerto Db9 Windo...</td>\n",
       "      <td>MLM-NOTEBOOKS</td>\n",
       "      <td>NaN</td>\n",
       "      <td>1599.00</td>\n",
       "      <td>MLM1652</td>\n",
       "      <td>used</td>\n",
       "    </tr>\n",
       "  </tbody>\n",
       "</table>\n",
       "</div>"
      ],
      "text/plain": [
       "   item_id                                              title  \\\n",
       "0   111260  Casa Sola En Venta Con Gran Patio Solo Pago De...   \n",
       "1   871377  Resident Evil Origins Collection Nintendo Swit...   \n",
       "2   490232                      Falda De Imitación Piel Negra   \n",
       "3  1150706       Powercolor Red Devil Radeon Rx 580 8gb Gddr5   \n",
       "4   934912  Laptop Hp Nx6320 Core Duo Con Puerto Db9 Windo...   \n",
       "\n",
       "                        domain_id  product_id       price category_id  \\\n",
       "0  MLM-INDIVIDUAL_HOUSES_FOR_SALE         NaN  1150000.00   MLM170527   \n",
       "1                 MLM-VIDEO_GAMES  15270800.0     1392.83   MLM151595   \n",
       "2                      MLM-SKIRTS         NaN      350.00     MLM7697   \n",
       "3              MLM-GRAPHICS_CARDS         NaN     3200.00     MLM9761   \n",
       "4                   MLM-NOTEBOOKS         NaN     1599.00     MLM1652   \n",
       "\n",
       "  condition  \n",
       "0       new  \n",
       "1       new  \n",
       "2       new  \n",
       "3      used  \n",
       "4      used  "
      ]
     },
     "execution_count": 13,
     "metadata": {},
     "output_type": "execute_result"
    }
   ],
   "source": [
    "item_data.head()"
   ]
  },
  {
   "cell_type": "code",
   "execution_count": 14,
   "metadata": {
    "execution": {
     "iopub.execute_input": "2020-11-09T18:34:16.964830Z",
     "iopub.status.busy": "2020-11-09T18:34:16.964708Z",
     "iopub.status.idle": "2020-11-09T18:34:17.105243Z",
     "shell.execute_reply": "2020-11-09T18:34:17.104656Z",
     "shell.execute_reply.started": "2020-11-09T18:34:16.964815Z"
    }
   },
   "outputs": [],
   "source": [
    "item_data=item_data[['item_id', 'domain_id', 'category_id', 'product_id', 'title', 'condition', 'price']]"
   ]
  },
  {
   "cell_type": "code",
   "execution_count": 15,
   "metadata": {
    "execution": {
     "iopub.execute_input": "2020-11-09T18:34:17.108240Z",
     "iopub.status.busy": "2020-11-09T18:34:17.108118Z",
     "iopub.status.idle": "2020-11-09T18:34:18.963146Z",
     "shell.execute_reply": "2020-11-09T18:34:18.962540Z",
     "shell.execute_reply.started": "2020-11-09T18:34:17.108225Z"
    }
   },
   "outputs": [],
   "source": [
    "item_data.to_feather('feather_files/productos.feather')"
   ]
  },
  {
   "cell_type": "markdown",
   "metadata": {},
   "source": [
    "* Realizamos lo mismopara el set de test"
   ]
  },
  {
   "cell_type": "code",
   "execution_count": 16,
   "metadata": {
    "execution": {
     "iopub.execute_input": "2020-11-09T18:34:18.964365Z",
     "iopub.status.busy": "2020-11-09T18:34:18.964218Z",
     "iopub.status.idle": "2020-11-09T18:37:19.830961Z",
     "shell.execute_reply": "2020-11-09T18:37:19.827518Z",
     "shell.execute_reply.started": "2020-11-09T18:34:18.964350Z"
    }
   },
   "outputs": [],
   "source": [
    "# Leer el dataset y covertirlo en dataframe\n",
    "raw_data = pd.read_json(\"jl_files/test_dataset.jl.gz\",\n",
    "                        lines=True,\n",
    "                        orient='columns')"
   ]
  },
  {
   "cell_type": "code",
   "execution_count": 17,
   "metadata": {
    "execution": {
     "iopub.execute_input": "2020-11-09T18:37:19.840103Z",
     "iopub.status.busy": "2020-11-09T18:37:19.839509Z",
     "iopub.status.idle": "2020-11-09T18:38:42.518418Z",
     "shell.execute_reply": "2020-11-09T18:38:42.517808Z",
     "shell.execute_reply.started": "2020-11-09T18:37:19.839930Z"
    }
   },
   "outputs": [],
   "source": [
    "raw_data['user_view']= pd.Series(dtype='object')\n",
    "raw_data['timestamps']= pd.Series(dtype='object')\n",
    "raw_data['user_search']= pd.Series(dtype='object')\n",
    "raw_data['search_timestamps']= pd.Series(dtype='object')\n",
    "\n",
    "for i in raw_data.index:\n",
    "    lista_view=[]\n",
    "    lista_time=[]\n",
    "    lista_search=[]\n",
    "    lista_search_t=[]\n",
    "    for item in raw_data.user_history[i]:\n",
    "        if item['event_type'] =='view':\n",
    "            lista_view.append(item['event_info'])\n",
    "            time_string=item['event_timestamp'].replace(\"T\", \" \").split('.')[0]\n",
    "            timestamp=datetime.timestamp(datetime.strptime(time_string, '%Y-%m-%d %H:%M:%S'))\n",
    "            lista_time.append(timestamp)\n",
    "        if item['event_type'] =='search':\n",
    "            lista_search.append(item['event_info'])\n",
    "            time_string=item['event_timestamp'].replace(\"T\", \" \").split('.')[0]\n",
    "            timestamp=datetime.timestamp(datetime.strptime(time_string, '%Y-%m-%d %H:%M:%S'))\n",
    "            lista_search_t.append(timestamp)\n",
    "            \n",
    "    raw_data.at[i,'user_view']= lista_view\n",
    "    raw_data.at[i,'timestamps']= lista_time\n",
    "    \n",
    "    raw_data.at[i,'user_search']= lista_search\n",
    "    raw_data.at[i,'search_timestamps']= lista_search_t\n",
    "    \n",
    "raw_data=raw_data.drop('user_history',1)"
   ]
  },
  {
   "cell_type": "code",
   "execution_count": 18,
   "metadata": {
    "execution": {
     "iopub.execute_input": "2020-11-09T18:38:42.522250Z",
     "iopub.status.busy": "2020-11-09T18:38:42.522128Z",
     "iopub.status.idle": "2020-11-09T18:38:42.538609Z",
     "shell.execute_reply": "2020-11-09T18:38:42.538047Z",
     "shell.execute_reply.started": "2020-11-09T18:38:42.522236Z"
    }
   },
   "outputs": [
    {
     "data": {
      "text/html": [
       "<div>\n",
       "<style scoped>\n",
       "    .dataframe tbody tr th:only-of-type {\n",
       "        vertical-align: middle;\n",
       "    }\n",
       "\n",
       "    .dataframe tbody tr th {\n",
       "        vertical-align: top;\n",
       "    }\n",
       "\n",
       "    .dataframe thead th {\n",
       "        text-align: right;\n",
       "    }\n",
       "</style>\n",
       "<table border=\"1\" class=\"dataframe\">\n",
       "  <thead>\n",
       "    <tr style=\"text-align: right;\">\n",
       "      <th></th>\n",
       "      <th>user_view</th>\n",
       "      <th>timestamps</th>\n",
       "      <th>user_search</th>\n",
       "      <th>search_timestamps</th>\n",
       "    </tr>\n",
       "  </thead>\n",
       "  <tbody>\n",
       "    <tr>\n",
       "      <th>0</th>\n",
       "      <td>[1572239, 1572239, 1572239, 1572239, 1572239, ...</td>\n",
       "      <td>[1569540707.0, 1569540904.0, 1569541055.0, 156...</td>\n",
       "      <td>[CINE BOX 4K, CINE BOX 4K, CINE BOX 4K, RECEPT...</td>\n",
       "      <td>[1569822622.0, 1569822639.0, 1569822650.0, 156...</td>\n",
       "    </tr>\n",
       "    <tr>\n",
       "      <th>1</th>\n",
       "      <td>[831243, 1125393, 831243, 943786, 943786, 9437...</td>\n",
       "      <td>[1571016446.0, 1571016473.0, 1571016512.0, 157...</td>\n",
       "      <td>[PENTE PRA MAQUINA BRITANIA, PENTE PRA MAQUINA...</td>\n",
       "      <td>[1571016101.0, 1571016219.0, 1571016346.0, 157...</td>\n",
       "    </tr>\n",
       "    <tr>\n",
       "      <th>2</th>\n",
       "      <td>[1986443, 991246, 1660615, 283306, 1425647, 13...</td>\n",
       "      <td>[1571267691.0, 1571267794.0, 1571267803.0, 157...</td>\n",
       "      <td>[ACCESORIOS MAZDA3 2019, ACCESORIOS MAZDA3 201...</td>\n",
       "      <td>[1571267778.0, 1571267780.0, 1571268068.0, 157...</td>\n",
       "    </tr>\n",
       "    <tr>\n",
       "      <th>3</th>\n",
       "      <td>[]</td>\n",
       "      <td>[]</td>\n",
       "      <td>[CAPACETE HELMET]</td>\n",
       "      <td>[1569993729.0]</td>\n",
       "    </tr>\n",
       "    <tr>\n",
       "      <th>4</th>\n",
       "      <td>[1398419, 1398419, 1398419, 1398419, 1398419]</td>\n",
       "      <td>[1570019584.0, 1570019806.0, 1570058566.0, 157...</td>\n",
       "      <td>[ANEL DEDO PE, ANEL DEDO PE, ANEL DEDO PE, ANE...</td>\n",
       "      <td>[1570058625.0, 1570058656.0, 1570058670.0, 157...</td>\n",
       "    </tr>\n",
       "  </tbody>\n",
       "</table>\n",
       "</div>"
      ],
      "text/plain": [
       "                                           user_view  \\\n",
       "0  [1572239, 1572239, 1572239, 1572239, 1572239, ...   \n",
       "1  [831243, 1125393, 831243, 943786, 943786, 9437...   \n",
       "2  [1986443, 991246, 1660615, 283306, 1425647, 13...   \n",
       "3                                                 []   \n",
       "4      [1398419, 1398419, 1398419, 1398419, 1398419]   \n",
       "\n",
       "                                          timestamps  \\\n",
       "0  [1569540707.0, 1569540904.0, 1569541055.0, 156...   \n",
       "1  [1571016446.0, 1571016473.0, 1571016512.0, 157...   \n",
       "2  [1571267691.0, 1571267794.0, 1571267803.0, 157...   \n",
       "3                                                 []   \n",
       "4  [1570019584.0, 1570019806.0, 1570058566.0, 157...   \n",
       "\n",
       "                                         user_search  \\\n",
       "0  [CINE BOX 4K, CINE BOX 4K, CINE BOX 4K, RECEPT...   \n",
       "1  [PENTE PRA MAQUINA BRITANIA, PENTE PRA MAQUINA...   \n",
       "2  [ACCESORIOS MAZDA3 2019, ACCESORIOS MAZDA3 201...   \n",
       "3                                  [CAPACETE HELMET]   \n",
       "4  [ANEL DEDO PE, ANEL DEDO PE, ANEL DEDO PE, ANE...   \n",
       "\n",
       "                                   search_timestamps  \n",
       "0  [1569822622.0, 1569822639.0, 1569822650.0, 156...  \n",
       "1  [1571016101.0, 1571016219.0, 1571016346.0, 157...  \n",
       "2  [1571267778.0, 1571267780.0, 1571268068.0, 157...  \n",
       "3                                     [1569993729.0]  \n",
       "4  [1570058625.0, 1570058656.0, 1570058670.0, 157...  "
      ]
     },
     "execution_count": 18,
     "metadata": {},
     "output_type": "execute_result"
    }
   ],
   "source": [
    "raw_data.head()"
   ]
  },
  {
   "cell_type": "code",
   "execution_count": 19,
   "metadata": {
    "execution": {
     "iopub.execute_input": "2020-11-09T18:38:42.540848Z",
     "iopub.status.busy": "2020-11-09T18:38:42.540730Z",
     "iopub.status.idle": "2020-11-09T18:38:43.581584Z",
     "shell.execute_reply": "2020-11-09T18:38:43.576225Z",
     "shell.execute_reply.started": "2020-11-09T18:38:42.540833Z"
    }
   },
   "outputs": [],
   "source": [
    "## Guardar en un formato optimizado\n",
    "raw_data.to_feather('feather_files/usuarios_test.feather')"
   ]
  },
  {
   "cell_type": "code",
   "execution_count": null,
   "metadata": {},
   "outputs": [],
   "source": []
  }
 ],
 "metadata": {
  "kernelspec": {
   "display_name": "Python 3",
   "language": "python",
   "name": "python3"
  },
  "language_info": {
   "codemirror_mode": {
    "name": "ipython",
    "version": 3
   },
   "file_extension": ".py",
   "mimetype": "text/x-python",
   "name": "python",
   "nbconvert_exporter": "python",
   "pygments_lexer": "ipython3",
   "version": "3.8.5"
  }
 },
 "nbformat": 4,
 "nbformat_minor": 4
}
